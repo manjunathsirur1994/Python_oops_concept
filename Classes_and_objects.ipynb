{
  "nbformat": 4,
  "nbformat_minor": 0,
  "metadata": {
    "colab": {
      "provenance": [],
      "authorship_tag": "ABX9TyNyBRCbxNHtYsGZULiAhXC1",
      "include_colab_link": true
    },
    "kernelspec": {
      "name": "python3",
      "display_name": "Python 3"
    },
    "language_info": {
      "name": "python"
    }
  },
  "cells": [
    {
      "cell_type": "markdown",
      "metadata": {
        "id": "view-in-github",
        "colab_type": "text"
      },
      "source": [
        "<a href=\"https://colab.research.google.com/github/manjunathsirur1994/Python_oops_concept/blob/main/Classes_and_objects.ipynb\" target=\"_parent\"><img src=\"https://colab.research.google.com/assets/colab-badge.svg\" alt=\"Open In Colab\"/></a>"
      ]
    },
    {
      "cell_type": "markdown",
      "source": [
        "# OOPS (Object Oriented Programming)"
      ],
      "metadata": {
        "id": "K66Xnfscl2hD"
      }
    },
    {
      "cell_type": "markdown",
      "source": [
        "## Classes and objects"
      ],
      "metadata": {
        "id": "g8ksRFO_mFy5"
      }
    },
    {
      "cell_type": "code",
      "execution_count": null,
      "metadata": {
        "id": "O1gsUmOAeFtp"
      },
      "outputs": [],
      "source": [
        "class car():\n",
        "  pass"
      ]
    },
    {
      "cell_type": "code",
      "source": [
        "audi = car()\n",
        "bmw = car()"
      ],
      "metadata": {
        "id": "qoVQ1nhheLQv"
      },
      "execution_count": null,
      "outputs": []
    },
    {
      "cell_type": "code",
      "source": [
        "type(audi)"
      ],
      "metadata": {
        "colab": {
          "base_uri": "https://localhost:8080/"
        },
        "id": "Wco5hnaweQmq",
        "outputId": "e3f001b9-730f-4448-b718-2680d455e51e"
      },
      "execution_count": null,
      "outputs": [
        {
          "output_type": "execute_result",
          "data": {
            "text/plain": [
              "__main__.car"
            ]
          },
          "metadata": {},
          "execution_count": 3
        }
      ]
    },
    {
      "cell_type": "code",
      "source": [
        "print(audi)"
      ],
      "metadata": {
        "colab": {
          "base_uri": "https://localhost:8080/"
        },
        "id": "wXn3kJOkeRMJ",
        "outputId": "db32df36-c10c-4b85-d64d-1e60a766deda"
      },
      "execution_count": null,
      "outputs": [
        {
          "output_type": "stream",
          "name": "stdout",
          "text": [
            "<__main__.car object at 0x7eb16e4d70d0>\n"
          ]
        }
      ]
    },
    {
      "cell_type": "code",
      "source": [
        "audi.windows = 4 # not a proper way of instatiating a value to an object\n",
        "print(audi.windows)"
      ],
      "metadata": {
        "colab": {
          "base_uri": "https://localhost:8080/"
        },
        "id": "c7utpzP6esY2",
        "outputId": "c080a793-0317-41f0-c737-dea083a76370"
      },
      "execution_count": null,
      "outputs": [
        {
          "output_type": "stream",
          "name": "stdout",
          "text": [
            "4\n"
          ]
        }
      ]
    },
    {
      "cell_type": "code",
      "source": [
        "tata = car()\n",
        "tata.doors = 2\n",
        "print(tata.windows)"
      ],
      "metadata": {
        "colab": {
          "base_uri": "https://localhost:8080/",
          "height": 176
        },
        "id": "ifPP22LMe_wp",
        "outputId": "69d68048-0336-49fd-8c65-060f6a81d69a"
      },
      "execution_count": null,
      "outputs": [
        {
          "output_type": "error",
          "ename": "AttributeError",
          "evalue": "'car' object has no attribute 'windows'",
          "traceback": [
            "\u001b[0;31m---------------------------------------------------------------------------\u001b[0m",
            "\u001b[0;31mAttributeError\u001b[0m                            Traceback (most recent call last)",
            "\u001b[0;32m<ipython-input-6-fba8be0e0263>\u001b[0m in \u001b[0;36m<cell line: 3>\u001b[0;34m()\u001b[0m\n\u001b[1;32m      1\u001b[0m \u001b[0mtata\u001b[0m \u001b[0;34m=\u001b[0m \u001b[0mcar\u001b[0m\u001b[0;34m(\u001b[0m\u001b[0;34m)\u001b[0m\u001b[0;34m\u001b[0m\u001b[0;34m\u001b[0m\u001b[0m\n\u001b[1;32m      2\u001b[0m \u001b[0mtata\u001b[0m\u001b[0;34m.\u001b[0m\u001b[0mdoors\u001b[0m \u001b[0;34m=\u001b[0m \u001b[0;36m2\u001b[0m\u001b[0;34m\u001b[0m\u001b[0;34m\u001b[0m\u001b[0m\n\u001b[0;32m----> 3\u001b[0;31m \u001b[0mprint\u001b[0m\u001b[0;34m(\u001b[0m\u001b[0mtata\u001b[0m\u001b[0;34m.\u001b[0m\u001b[0mwindows\u001b[0m\u001b[0;34m)\u001b[0m\u001b[0;34m\u001b[0m\u001b[0;34m\u001b[0m\u001b[0m\n\u001b[0m",
            "\u001b[0;31mAttributeError\u001b[0m: 'car' object has no attribute 'windows'"
          ]
        }
      ]
    },
    {
      "cell_type": "code",
      "source": [
        "dir(tata) # to show all objects"
      ],
      "metadata": {
        "colab": {
          "base_uri": "https://localhost:8080/"
        },
        "id": "LdbxeBMwfJC7",
        "outputId": "9ab44721-b63a-4676-f54a-36d23cccfdfa"
      },
      "execution_count": null,
      "outputs": [
        {
          "output_type": "execute_result",
          "data": {
            "text/plain": [
              "['__class__',\n",
              " '__delattr__',\n",
              " '__dict__',\n",
              " '__dir__',\n",
              " '__doc__',\n",
              " '__eq__',\n",
              " '__format__',\n",
              " '__ge__',\n",
              " '__getattribute__',\n",
              " '__gt__',\n",
              " '__hash__',\n",
              " '__init__',\n",
              " '__init_subclass__',\n",
              " '__le__',\n",
              " '__lt__',\n",
              " '__module__',\n",
              " '__ne__',\n",
              " '__new__',\n",
              " '__reduce__',\n",
              " '__reduce_ex__',\n",
              " '__repr__',\n",
              " '__setattr__',\n",
              " '__sizeof__',\n",
              " '__str__',\n",
              " '__subclasshook__',\n",
              " '__weakref__',\n",
              " 'doors']"
            ]
          },
          "metadata": {},
          "execution_count": 8
        }
      ]
    },
    {
      "cell_type": "code",
      "source": [
        "# constructor\n",
        "\n",
        "class dog:\n",
        "  # constructor\n",
        "  def __init__(self, name, age):\n",
        "    self.name = name\n",
        "    self.age = age"
      ],
      "metadata": {
        "id": "vtWhIvFCfKDa"
      },
      "execution_count": null,
      "outputs": []
    },
    {
      "cell_type": "code",
      "source": [
        "dog1 = dog('gundu', 4)"
      ],
      "metadata": {
        "id": "bcMIkjaqfwtD"
      },
      "execution_count": null,
      "outputs": []
    },
    {
      "cell_type": "code",
      "source": [
        "print(dog1.name)\n",
        "print(dog1.age)"
      ],
      "metadata": {
        "colab": {
          "base_uri": "https://localhost:8080/"
        },
        "id": "lNvMI73Rf2i6",
        "outputId": "f267045a-020f-43a4-bd7d-45580f7c5f42"
      },
      "execution_count": null,
      "outputs": [
        {
          "output_type": "stream",
          "name": "stdout",
          "text": [
            "gundu\n",
            "4\n"
          ]
        }
      ]
    },
    {
      "cell_type": "code",
      "source": [
        "dog2 = dog('tomu',5)\n",
        "print(dog2.name)\n",
        "print(dog2.age)"
      ],
      "metadata": {
        "colab": {
          "base_uri": "https://localhost:8080/"
        },
        "id": "rPWR18tef9mB",
        "outputId": "98211530-1abe-4a3f-c879-c15f9260aa68"
      },
      "execution_count": null,
      "outputs": [
        {
          "output_type": "stream",
          "name": "stdout",
          "text": [
            "tomu\n",
            "5\n"
          ]
        }
      ]
    },
    {
      "cell_type": "code",
      "source": [
        "# define a class with instance method\n",
        "\n",
        "class dog:\n",
        "  def __init__(self, name, age):\n",
        "    self.name = name\n",
        "    self.age = age\n",
        "\n",
        "  def bark(self):\n",
        "    print(f'{self.name} says woof, he is {self.age}')"
      ],
      "metadata": {
        "id": "F223Nq0giBEG"
      },
      "execution_count": null,
      "outputs": []
    },
    {
      "cell_type": "code",
      "source": [
        "dog1 = dog('golu',5)\n",
        "dog1.bark()"
      ],
      "metadata": {
        "colab": {
          "base_uri": "https://localhost:8080/"
        },
        "id": "lR4WzIG5iv7Z",
        "outputId": "35fc372f-225a-4c3b-c6fc-87a9da3fa4e4"
      },
      "execution_count": null,
      "outputs": [
        {
          "output_type": "stream",
          "name": "stdout",
          "text": [
            "golu says woof, he is 5\n"
          ]
        }
      ]
    },
    {
      "cell_type": "code",
      "source": [
        "# modelling bank account\n",
        "\n",
        "# define class for bank account\n",
        "\n",
        "class bankaccount:\n",
        "  def __init__(self, owner, balance=0):\n",
        "    self.owner = owner\n",
        "    self.balance = balance\n",
        "\n",
        "  def deposit(self, amount):\n",
        "    self.balance = self.balance + amount\n",
        "    print(f'amount deposited is {amount} and total balance is {self.balance}')\n",
        "\n",
        "  def withdraw(self, amount):\n",
        "    if amount > self.balance:\n",
        "      print('insufficient balance')\n",
        "    else:\n",
        "      self.balance = self.balance - amount\n",
        "      print(f'amount withdrawn is {amount} and balance is: {self.balance}')\n",
        "\n",
        "  def getbalance(self):\n",
        "    return self.balance"
      ],
      "metadata": {
        "id": "SKe65ue3i2du"
      },
      "execution_count": null,
      "outputs": []
    },
    {
      "cell_type": "code",
      "source": [
        "account = bankaccount('manjunath',5000)\n",
        "account.balance"
      ],
      "metadata": {
        "colab": {
          "base_uri": "https://localhost:8080/"
        },
        "id": "xZn1n2Tvkcfs",
        "outputId": "22d91f1a-9795-4071-b759-d25cbeb30235"
      },
      "execution_count": null,
      "outputs": [
        {
          "output_type": "execute_result",
          "data": {
            "text/plain": [
              "5000"
            ]
          },
          "metadata": {},
          "execution_count": 29
        }
      ]
    },
    {
      "cell_type": "code",
      "source": [
        "account.deposit(5000)"
      ],
      "metadata": {
        "colab": {
          "base_uri": "https://localhost:8080/"
        },
        "id": "s4m-ZQz2kzym",
        "outputId": "c7c43c99-1819-4f0f-fc05-242ab80cd43f"
      },
      "execution_count": null,
      "outputs": [
        {
          "output_type": "stream",
          "name": "stdout",
          "text": [
            "amount deposited is 5000 and total balance is 10000\n"
          ]
        }
      ]
    },
    {
      "cell_type": "code",
      "source": [
        "account.withdraw(300)"
      ],
      "metadata": {
        "colab": {
          "base_uri": "https://localhost:8080/"
        },
        "id": "TIuX3MV3k657",
        "outputId": "4d051d7a-941f-41bd-f807-279a2af810a9"
      },
      "execution_count": null,
      "outputs": [
        {
          "output_type": "stream",
          "name": "stdout",
          "text": [
            "amount withdrawn is 300 and balance is: 9700\n"
          ]
        }
      ]
    },
    {
      "cell_type": "code",
      "source": [
        "account.getbalance()"
      ],
      "metadata": {
        "colab": {
          "base_uri": "https://localhost:8080/"
        },
        "id": "DPYHdAl-lczf",
        "outputId": "700a5789-f00d-4aea-e19e-1a8ea4e507f7"
      },
      "execution_count": null,
      "outputs": [
        {
          "output_type": "execute_result",
          "data": {
            "text/plain": [
              "9700"
            ]
          },
          "metadata": {},
          "execution_count": 34
        }
      ]
    },
    {
      "cell_type": "markdown",
      "source": [
        "## Inheritance in python"
      ],
      "metadata": {
        "id": "TrhrbsXemN_f"
      }
    },
    {
      "cell_type": "code",
      "source": [
        "class car:\n",
        "  def __init__(self, windows, doors, enginetype):\n",
        "    self.windows = windows\n",
        "    self.doors = doors\n",
        "    self.enginetype = enginetype\n",
        "\n",
        "  def drive(self):\n",
        "    print(f\"the person will drive {self.enginetype} car with {self.doors} doors and {self.windows} windows. \")"
      ],
      "metadata": {
        "id": "O2gpYnBQm1vZ"
      },
      "execution_count": null,
      "outputs": []
    },
    {
      "cell_type": "code",
      "source": [
        "audi = car(4, 5, 'petrol')\n",
        "print(audi.drive())"
      ],
      "metadata": {
        "colab": {
          "base_uri": "https://localhost:8080/"
        },
        "id": "h3-cP7jSoVfC",
        "outputId": "1485d5a3-9b86-4e4e-f49c-8992e0dff372"
      },
      "execution_count": null,
      "outputs": [
        {
          "output_type": "stream",
          "name": "stdout",
          "text": [
            "the person will drive petrol car with 5 doors and 4 windows. \n",
            "None\n"
          ]
        }
      ]
    },
    {
      "cell_type": "code",
      "source": [
        "class tesla(car):\n",
        "  def __init__(self, windows, doors, enginetype, is_self_driving):\n",
        "    super().__init__(windows, doors, enginetype)\n",
        "    self.is_self_driving = is_self_driving\n",
        "\n",
        "  def self_driving(self):\n",
        "    print(f'tesla supports self driving ? : {self.is_self_driving}')"
      ],
      "metadata": {
        "id": "Kd9xN-Gnocnr"
      },
      "execution_count": null,
      "outputs": []
    },
    {
      "cell_type": "code",
      "source": [
        "t1 = tesla(4,5, 'electric', True)\n",
        "t1.self_driving()"
      ],
      "metadata": {
        "colab": {
          "base_uri": "https://localhost:8080/"
        },
        "id": "7oN9hRxtp0iQ",
        "outputId": "8b7a2c3c-848c-44bd-c7e3-ccc2dc447f0d"
      },
      "execution_count": null,
      "outputs": [
        {
          "output_type": "stream",
          "name": "stdout",
          "text": [
            "tesla supports self driving ? : True\n"
          ]
        }
      ]
    },
    {
      "cell_type": "code",
      "source": [
        "t1.drive()"
      ],
      "metadata": {
        "colab": {
          "base_uri": "https://localhost:8080/"
        },
        "id": "H9V-YyYWp-OD",
        "outputId": "f9d7a050-2142-4b60-9b2d-e8e08ac556f8"
      },
      "execution_count": null,
      "outputs": [
        {
          "output_type": "stream",
          "name": "stdout",
          "text": [
            "the person will drive electric car with 5 doors and 4 windows. \n"
          ]
        }
      ]
    },
    {
      "cell_type": "code",
      "source": [
        "t2 = tesla(windows=4, doors=5, enginetype='electric', is_self_driving=True)\n",
        "t2.drive()"
      ],
      "metadata": {
        "colab": {
          "base_uri": "https://localhost:8080/"
        },
        "id": "qYQLcm17qEQT",
        "outputId": "22d925dd-b6d8-45e4-c634-8205af7a44c9"
      },
      "execution_count": null,
      "outputs": [
        {
          "output_type": "stream",
          "name": "stdout",
          "text": [
            "the person will drive electric car with 5 doors and 4 windows. \n"
          ]
        }
      ]
    },
    {
      "cell_type": "markdown",
      "source": [
        "## When a class inherits more than one base class it is called multiple inhertance."
      ],
      "metadata": {
        "id": "5NhqvURNmaYr"
      }
    },
    {
      "cell_type": "code",
      "source": [
        "class animal:\n",
        "  def __init__(self, name):\n",
        "    self.name = name\n",
        "  def speak(self):\n",
        "    print(f'subclasses must implement this method')"
      ],
      "metadata": {
        "id": "XIfZof7KqWCB"
      },
      "execution_count": null,
      "outputs": []
    },
    {
      "cell_type": "code",
      "source": [
        "# base class 2\n",
        "\n",
        "class pet:\n",
        "  def __init__(self,owner):\n",
        "    self.owner = owner"
      ],
      "metadata": {
        "id": "QIPOpjVvqpqS"
      },
      "execution_count": null,
      "outputs": []
    },
    {
      "cell_type": "code",
      "source": [
        "# derived class\n",
        "\n",
        "class dog(animal, pet):\n",
        "  def __init__(self, name, owner):\n",
        "    animal.__init__(self, name)\n",
        "    pet.__init__(self, owner)\n",
        "\n",
        "\n",
        "# if you comment this the speak above will be implemented\n",
        "  def speak(self):\n",
        "    return (f'{self.name} says woof')"
      ],
      "metadata": {
        "id": "s4jRnfuaq2We"
      },
      "execution_count": null,
      "outputs": []
    },
    {
      "cell_type": "code",
      "source": [
        "doggo = dog('kalu','manjunath')\n",
        "doggo.speak()"
      ],
      "metadata": {
        "colab": {
          "base_uri": "https://localhost:8080/"
        },
        "id": "5BCo447EsQNN",
        "outputId": "0d937dd7-9886-44dc-d765-b57117605ceb"
      },
      "execution_count": null,
      "outputs": [
        {
          "output_type": "stream",
          "name": "stdout",
          "text": [
            "subclasses must implement this method\n"
          ]
        }
      ]
    },
    {
      "cell_type": "code",
      "source": [],
      "metadata": {
        "id": "zL0kCUk2skMA"
      },
      "execution_count": null,
      "outputs": []
    },
    {
      "cell_type": "markdown",
      "source": [
        "## Ploymorphism"
      ],
      "metadata": {
        "id": "UCR_r-DWl9Jp"
      }
    },
    {
      "cell_type": "markdown",
      "source": [
        "ploymorphism is a core concept in OOPS that allows objects of different classes to be treated as objects of a common superclass. It provides a way to perform single action in different forms. Polymorphism is typically achieved through method overriding and interfaces."
      ],
      "metadata": {
        "id": "_z7ATnr3mogI"
      }
    },
    {
      "cell_type": "markdown",
      "source": [
        "## Method overriding\n",
        "method overriding allows a child class to provide a specific implementation of a method that is already defined in its parent class."
      ],
      "metadata": {
        "id": "ANQcfG4bnVDc"
      }
    },
    {
      "cell_type": "code",
      "source": [
        "class Animal:\n",
        "  def speak(self):\n",
        "    return \"sound of an animal\"\n",
        "\n",
        "class dog(Animal):\n",
        "  def speak(self):\n",
        "    return \"woof\"\n",
        "\n",
        "class cat(Animal):\n",
        "  def speak(self):\n",
        "    return \"meow\"\n",
        "\n",
        "\n",
        "dog = dog()\n",
        "cat = cat()\n",
        "\n",
        "print(dog.speak())\n",
        "print(cat.speak())"
      ],
      "metadata": {
        "colab": {
          "base_uri": "https://localhost:8080/"
        },
        "id": "gb_DR0HNmAMc",
        "outputId": "7ba869fb-0bff-425c-8673-110d6b79fb64"
      },
      "execution_count": null,
      "outputs": [
        {
          "output_type": "stream",
          "name": "stdout",
          "text": [
            "woof\n",
            "meow\n"
          ]
        }
      ]
    },
    {
      "cell_type": "code",
      "source": [
        "# polymorphism with functions and methods\n",
        "\n",
        "class shape:\n",
        "  def area(self):\n",
        "    return \"the area of the figure\"\n",
        "\n",
        "\n",
        "class rectangle(shape):\n",
        "  def __init__(self,length,width):\n",
        "    self.length = length\n",
        "    self.width = width\n",
        "  def area(self):\n",
        "    return self.length * self.width\n",
        "\n",
        "class circle(shape):\n",
        "  def __init__(self, radius):\n",
        "    self.radius = radius\n",
        "\n",
        "  def area(self):\n",
        "    return 3.14 * self.radius * self.radius\n",
        "\n",
        "\n",
        "def print_area(x):\n",
        "  print(f'the area is {x.area()}')\n",
        "\n",
        "rec = rectangle(5,4)\n",
        "cir = circle(3)\n",
        "\n",
        "print_area(rec)\n",
        "print_area(cir)"
      ],
      "metadata": {
        "colab": {
          "base_uri": "https://localhost:8080/"
        },
        "id": "VhyORu3HosFZ",
        "outputId": "7c7644af-a9f7-4884-b0d5-1299734d3e6f"
      },
      "execution_count": null,
      "outputs": [
        {
          "output_type": "stream",
          "name": "stdout",
          "text": [
            "the area is 20\n",
            "the area is 28.259999999999998\n"
          ]
        }
      ]
    },
    {
      "cell_type": "code",
      "source": [],
      "metadata": {
        "id": "HiPGcuDBp3jC"
      },
      "execution_count": null,
      "outputs": []
    }
  ]
}